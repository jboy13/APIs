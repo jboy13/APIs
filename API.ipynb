{
 "cells": [
  {
   "cell_type": "markdown",
   "metadata": {},
   "source": [
    "# API's"
   ]
  },
  {
   "cell_type": "markdown",
   "metadata": {},
   "source": [
    "## Application Programming Interface\n",
    "\n",
    "What is it?\n",
    "Why do we use them?"
   ]
  },
  {
   "cell_type": "markdown",
   "metadata": {},
   "source": [
    "```mermaid\n",
    "graph RL\n",
    "  subgraph User\n",
    "    A((User))\n",
    "  end\n",
    "\n",
    "  subgraph API\n",
    "    B{{API}}\n",
    "  end\n",
    "\n",
    "  subgraph Server\n",
    "    C((Server))\n",
    "  end\n",
    "\n",
    "  A -->|Sends Request| B\n",
    "  B -->C\n",
    "  C -->B\n",
    "  B -->|Sends Response| A\n",
    "\n",
    "```"
   ]
  },
  {
   "cell_type": "markdown",
   "metadata": {},
   "source": [
    "### Common request types:\n",
    "- GET (used to retreive data from a server)\n",
    "- POST (sends data to an API, either creating or updating a resource)\n",
    "\n",
    "### Common responses:\n",
    "- 2XX 😎\n",
    "- 4XX 🤬\n",
    "- 5XX 🙄"
   ]
  },
  {
   "cell_type": "markdown",
   "metadata": {},
   "source": [
    "# Common GCP API Examples"
   ]
  },
  {
   "cell_type": "markdown",
   "metadata": {},
   "source": [
    "1) BigQuery\n",
    "2) Composer\n",
    "3) Other"
   ]
  },
  {
   "cell_type": "markdown",
   "metadata": {},
   "source": [
    "## BigQuery API"
   ]
  },
  {
   "cell_type": "markdown",
   "metadata": {},
   "source": [
    "Prerequisites:\n",
    "\n",
    "Set Default Credentials: \n",
    "```gcloud auth application-default login```\n",
    "\n",
    "This will save your credentials and allow you to access BigQuery (presuming you have the correct permissions)"
   ]
  },
  {
   "cell_type": "code",
   "execution_count": 3,
   "metadata": {},
   "outputs": [],
   "source": [
    "from google.cloud import bigquery"
   ]
  },
  {
   "cell_type": "markdown",
   "metadata": {},
   "source": [
    "### Reading from BQ"
   ]
  },
  {
   "cell_type": "code",
   "execution_count": 21,
   "metadata": {},
   "outputs": [],
   "source": [
    "client = bigquery.Client()"
   ]
  },
  {
   "cell_type": "code",
   "execution_count": 22,
   "metadata": {},
   "outputs": [],
   "source": [
    "sql = \"\"\"\n",
    "    SELECT name, SUM(number) as count\n",
    "    FROM `bigquery-public-data.usa_names.usa_1910_current`\n",
    "    GROUP BY name\n",
    "    ORDER BY count DESC\n",
    "    LIMIT 10\n",
    "\"\"\""
   ]
  },
  {
   "cell_type": "code",
   "execution_count": 23,
   "metadata": {},
   "outputs": [],
   "source": [
    "df = client.query(sql).to_dataframe()"
   ]
  },
  {
   "cell_type": "markdown",
   "metadata": {},
   "source": [
    "```mermaid\n",
    "graph RL\n",
    "  subgraph User\n",
    "    A((User))\n",
    "  end\n",
    "\n",
    "  subgraph BigQueryAPI\n",
    "    B{{BigQuery API}}\n",
    "  end\n",
    "\n",
    "  subgraph BigQuery\n",
    "    C{{BigQuery}}\n",
    "  end\n",
    "\n",
    "  A -->|Sends Query Request| B\n",
    "  B -->|Processes Query| C\n",
    "  C -->|Retrieves Data| B\n",
    "  B -->|Returns Dataframe| A\n",
    "```"
   ]
  },
  {
   "cell_type": "markdown",
   "metadata": {},
   "source": [
    "## Pandas GBQ"
   ]
  },
  {
   "cell_type": "markdown",
   "metadata": {},
   "source": [
    "An alternative lightweight way to read and write data to BigQuery"
   ]
  },
  {
   "cell_type": "code",
   "execution_count": 10,
   "metadata": {},
   "outputs": [],
   "source": [
    "import pandas as pd \n",
    "import pandas_gbq"
   ]
  },
  {
   "cell_type": "code",
   "execution_count": 11,
   "metadata": {},
   "outputs": [],
   "source": [
    "SQL = \"\"\"\n",
    "    SELECT name, SUM(number) as count\n",
    "    FROM `bigquery-public-data.usa_names.usa_1910_current`\n",
    "    GROUP BY name\n",
    "    ORDER BY count DESC\n",
    "    LIMIT 10\n",
    "\"\"\""
   ]
  },
  {
   "cell_type": "code",
   "execution_count": 12,
   "metadata": {},
   "outputs": [],
   "source": [
    "df = pd.read_gbq(SQL, project_id='jlr-dl-cat')"
   ]
  },
  {
   "cell_type": "markdown",
   "metadata": {},
   "source": [
    "## Airflow API"
   ]
  },
  {
   "cell_type": "markdown",
   "metadata": {},
   "source": [
    "The Airflow API is commonly used in cloud functions to trigger DAGs based on events."
   ]
  },
  {
   "cell_type": "code",
   "execution_count": 6,
   "metadata": {},
   "outputs": [],
   "source": [
    "import google.auth\n",
    "from google.auth.transport.requests import AuthorizedSession"
   ]
  },
  {
   "cell_type": "markdown",
   "metadata": {},
   "source": [
    "To get airflow uri:\n",
    "```\n",
    "gcloud composer environments describe jlr-dl-cat-schumann --location europe-west2\n",
    "```"
   ]
  },
  {
   "cell_type": "code",
   "execution_count": 9,
   "metadata": {},
   "outputs": [],
   "source": [
    "# Getting credentials\n",
    "AUTH_SCOPE = \"https://www.googleapis.com/auth/cloud-platform\"\n",
    "CREDENTIALS, _ = google.auth.default(scopes=[AUTH_SCOPE])\n",
    "\n",
    "# Defining info about our composer environment and DAG\n",
    "airflow_uri = 'https://878d6511cdc24c9b95a34f8450e94025-dot-europe-west2.composer.googleusercontent.com'\n",
    "dag_id = 'airflow_monitoring'\n",
    "data = {'conf': {}}\n",
    "endpoint = f\"api/v1/dags/{dag_id}/dagRuns\"\n",
    "request_url = f\"{airflow_uri}/{endpoint}\""
   ]
  },
  {
   "cell_type": "code",
   "execution_count": 8,
   "metadata": {},
   "outputs": [
    {
     "data": {
      "text/plain": [
       "<Response [404]>"
      ]
     },
     "execution_count": 8,
     "metadata": {},
     "output_type": "execute_result"
    }
   ],
   "source": [
    "# Making API call\n",
    "authed_session = AuthorizedSession(CREDENTIALS)\n",
    "authed_session.request(url=request_url, method='POST', json=data)"
   ]
  },
  {
   "cell_type": "markdown",
   "metadata": {},
   "source": [
    "```mermaid\n",
    "graph RL\n",
    "  subgraph User\n",
    "    A((User))\n",
    "  end\n",
    "\n",
    "  subgraph ComposerAPI\n",
    "    B{{Composer API}}\n",
    "  end\n",
    "\n",
    "  subgraph AirflowDAG\n",
    "    C{{Airflow DAG}}\n",
    "  end\n",
    "\n",
    "  A -->|Sends POST Request| B\n",
    "  B -->|Triggers DAG Execution| C\n",
    "  B -->|Returns Status e.g. 200| A\n",
    "```"
   ]
  },
  {
   "cell_type": "markdown",
   "metadata": {},
   "source": [
    "## Other"
   ]
  },
  {
   "cell_type": "markdown",
   "metadata": {},
   "source": [
    "Google API library: https://console.cloud.google.com/apis/library?hl=en-GB\n",
    "\n",
    "For PD: https://rapidapi.com/hub"
   ]
  }
 ],
 "metadata": {
  "kernelspec": {
   "display_name": "env",
   "language": "python",
   "name": "python3"
  },
  "language_info": {
   "codemirror_mode": {
    "name": "ipython",
    "version": 3
   },
   "file_extension": ".py",
   "mimetype": "text/x-python",
   "name": "python",
   "nbconvert_exporter": "python",
   "pygments_lexer": "ipython3",
   "version": "3.11.7"
  }
 },
 "nbformat": 4,
 "nbformat_minor": 2
}
